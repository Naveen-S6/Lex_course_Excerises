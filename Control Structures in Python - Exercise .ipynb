{
 "cells": [
  {
   "cell_type": "markdown",
   "id": "069d5e58",
   "metadata": {},
   "source": [
    "### Write a Python program that displays a message as follows for a given number:\n",
    "\n",
    "    If it is a multiple of 3, display \"Zip\"\n",
    "\n",
    "    If it is a multiple of 5, display \"Zap\"\n",
    "\n",
    "    If it is a multiple of both 3 and 5, display \"Zoom\"\n",
    "\n",
    "    If it does not satisfy any of the above given conditions, display \"Invalid\"\n"
   ]
  },
  {
   "cell_type": "code",
   "execution_count": 4,
   "id": "1b8e4e73",
   "metadata": {},
   "outputs": [],
   "source": [
    "def CheckNumber(n):\n",
    "    if n % 3 == 0 and n%5 == 0:\n",
    "        print(\"Zoom\")\n",
    "    elif n % 5 == 0:\n",
    "        print(\"Zap\")\n",
    "    elif n % 3 == 0 :\n",
    "        print(\"Zip\")\n",
    "    else:\n",
    "        print(\"Invalid\")"
   ]
  },
  {
   "cell_type": "code",
   "execution_count": 5,
   "id": "e87a183a",
   "metadata": {},
   "outputs": [
    {
     "name": "stdout",
     "output_type": "stream",
     "text": [
      "Zoom\n"
     ]
    }
   ],
   "source": [
    "CheckNumber(15)"
   ]
  },
  {
   "cell_type": "code",
   "execution_count": 6,
   "id": "286590fd",
   "metadata": {},
   "outputs": [
    {
     "name": "stdout",
     "output_type": "stream",
     "text": [
      "Zip\n"
     ]
    }
   ],
   "source": [
    "CheckNumber(3)"
   ]
  },
  {
   "cell_type": "code",
   "execution_count": 7,
   "id": "68f33a9a",
   "metadata": {},
   "outputs": [
    {
     "name": "stdout",
     "output_type": "stream",
     "text": [
      "Zap\n"
     ]
    }
   ],
   "source": [
    "CheckNumber(20)"
   ]
  },
  {
   "cell_type": "code",
   "execution_count": 9,
   "id": "992ab086",
   "metadata": {},
   "outputs": [
    {
     "name": "stdout",
     "output_type": "stream",
     "text": [
      "Invalid\n"
     ]
    }
   ],
   "source": [
    "CheckNumber(26)"
   ]
  },
  {
   "cell_type": "markdown",
   "id": "68dfd91c",
   "metadata": {},
   "source": [
    "### Write a Python program to find the sum of digits of a given number.\n",
    "\n",
    "Example: Sum of digits of the number 123 will be 6"
   ]
  },
  {
   "cell_type": "code",
   "execution_count": 10,
   "id": "545ec443",
   "metadata": {},
   "outputs": [],
   "source": [
    "def SumDigit(n):\n",
    "    total = 0\n",
    "    for i in str(n):\n",
    "        total += int(i)\n",
    "        \n",
    "    return total"
   ]
  },
  {
   "cell_type": "code",
   "execution_count": 11,
   "id": "60ddd18c",
   "metadata": {},
   "outputs": [
    {
     "data": {
      "text/plain": [
       "6"
      ]
     },
     "execution_count": 11,
     "metadata": {},
     "output_type": "execute_result"
    }
   ],
   "source": [
    "SumDigit(123)"
   ]
  },
  {
   "cell_type": "code",
   "execution_count": 12,
   "id": "8a9623f1",
   "metadata": {},
   "outputs": [
    {
     "data": {
      "text/plain": [
       "15"
      ]
     },
     "execution_count": 12,
     "metadata": {},
     "output_type": "execute_result"
    }
   ],
   "source": [
    "SumDigit(12345)"
   ]
  },
  {
   "cell_type": "markdown",
   "id": "e38e8609",
   "metadata": {},
   "source": [
    "### Write a Python program to check whether the given year is leap year or not."
   ]
  },
  {
   "cell_type": "markdown",
   "id": "c4729f07",
   "metadata": {},
   "source": [
    "Every year that is exactly divisible by four is a leap year, except for years that are exactly divisible by 100, but these centurial years are leap years if they are exactly divisible by 400."
   ]
  },
  {
   "cell_type": "code",
   "execution_count": 19,
   "id": "ae0698fb",
   "metadata": {},
   "outputs": [],
   "source": [
    "def CheckLeap(year):\n",
    "    if year % 4 ==0:\n",
    "        str_year = str(year)\n",
    "        if str_year[-3:] ==\"000\" or str_year[-2] ==\"00\":\n",
    "            if year % 400 == 0:\n",
    "                print(\"It is a leap year\")\n",
    "            else:\n",
    "                print(\"It is not a leap year\")\n",
    "        else:\n",
    "            print(\"It is a leap year\")\n",
    "    else:\n",
    "        print(\"It is not a leap year\")"
   ]
  },
  {
   "cell_type": "code",
   "execution_count": 20,
   "id": "5e37023e",
   "metadata": {},
   "outputs": [
    {
     "name": "stdout",
     "output_type": "stream",
     "text": [
      "It is a leap year\n"
     ]
    }
   ],
   "source": [
    "CheckLeap(2000)"
   ]
  },
  {
   "cell_type": "code",
   "execution_count": 21,
   "id": "5c6dcf3f",
   "metadata": {},
   "outputs": [
    {
     "name": "stdout",
     "output_type": "stream",
     "text": [
      "It is not a leap year\n"
     ]
    }
   ],
   "source": [
    "CheckLeap(2022)"
   ]
  },
  {
   "cell_type": "markdown",
   "id": "b52fe6bf",
   "metadata": {},
   "source": [
    "### Write a Python program to find and display the maximum of three given numbers."
   ]
  },
  {
   "cell_type": "code",
   "execution_count": 25,
   "id": "b050746e",
   "metadata": {},
   "outputs": [],
   "source": [
    "def FindMax(lst):\n",
    "    return \"The maximum number is:\",max(lst)"
   ]
  },
  {
   "cell_type": "code",
   "execution_count": 26,
   "id": "77229889",
   "metadata": {},
   "outputs": [],
   "source": [
    "numbers = [23,45,65]"
   ]
  },
  {
   "cell_type": "code",
   "execution_count": 27,
   "id": "db2b2dcb",
   "metadata": {},
   "outputs": [
    {
     "data": {
      "text/plain": [
       "('The maximum number is:', 65)"
      ]
     },
     "execution_count": 27,
     "metadata": {},
     "output_type": "execute_result"
    }
   ],
   "source": [
    "FindMax(numbers)"
   ]
  },
  {
   "cell_type": "markdown",
   "id": "d2f1a327",
   "metadata": {},
   "source": [
    "### Write a Python program to check the given number is prime number or not."
   ]
  },
  {
   "cell_type": "code",
   "execution_count": 37,
   "id": "510f79a0",
   "metadata": {},
   "outputs": [],
   "source": [
    "def CheckPrime(n):\n",
    "    count =0\n",
    "    for i in range(1,n+1):\n",
    "        if n%i == 0:\n",
    "            count +=1\n",
    "            \n",
    "    if count == 2:\n",
    "        return \"It is a prime number\"\n",
    "    else:\n",
    "        return \"It is not a prime number\""
   ]
  },
  {
   "cell_type": "code",
   "execution_count": 38,
   "id": "cb3560ad",
   "metadata": {},
   "outputs": [
    {
     "data": {
      "text/plain": [
       "'It is a prime number'"
      ]
     },
     "execution_count": 38,
     "metadata": {},
     "output_type": "execute_result"
    }
   ],
   "source": [
    "CheckPrime(11)"
   ]
  },
  {
   "cell_type": "code",
   "execution_count": 39,
   "id": "4ff30b97",
   "metadata": {},
   "outputs": [
    {
     "data": {
      "text/plain": [
       "'It is not a prime number'"
      ]
     },
     "execution_count": 39,
     "metadata": {},
     "output_type": "execute_result"
    }
   ],
   "source": [
    "CheckPrime(15)"
   ]
  },
  {
   "cell_type": "markdown",
   "id": "39288ad8",
   "metadata": {},
   "source": [
    "### Write a Python program to print first n Fibonacci numbers."
   ]
  },
  {
   "cell_type": "code",
   "execution_count": 44,
   "id": "0ea5bb6a",
   "metadata": {},
   "outputs": [],
   "source": [
    "def FibonacciSeries(n):\n",
    "    a = 0\n",
    "    b = 1\n",
    "    series = [a,b]\n",
    "    for i in range(n-1):\n",
    "        c = a +b\n",
    "        series.append(c)\n",
    "        a = b\n",
    "        b = c\n",
    "        \n",
    "    return series"
   ]
  },
  {
   "cell_type": "code",
   "execution_count": 45,
   "id": "f7ba068e",
   "metadata": {},
   "outputs": [
    {
     "data": {
      "text/plain": [
       "[0, 1, 1, 2, 3, 5]"
      ]
     },
     "execution_count": 45,
     "metadata": {},
     "output_type": "execute_result"
    }
   ],
   "source": [
    "FibonacciSeries(5)"
   ]
  },
  {
   "cell_type": "code",
   "execution_count": 46,
   "id": "d3ec3f16",
   "metadata": {},
   "outputs": [
    {
     "data": {
      "text/plain": [
       "[0, 1, 1, 2, 3, 5, 8, 13, 21, 34, 55, 89, 144, 233, 377, 610]"
      ]
     },
     "execution_count": 46,
     "metadata": {},
     "output_type": "execute_result"
    }
   ],
   "source": [
    "FibonacciSeries(15)"
   ]
  },
  {
   "cell_type": "markdown",
   "id": "fe450256",
   "metadata": {},
   "source": [
    "### An organization has decided to provide salary hike to its employees based on their job level. Employees can be in job levels 3 , 4 or 5. Hike percentage based on job levels are given below:\n",
    "\n",
    "Job level\n",
    "\t\n",
    "\n",
    "Hike Percentage (applicable on current salary)\n",
    "\n",
    "3 - 15\n",
    "\n",
    "4 - 7\n",
    "\n",
    "5 - 5\n",
    "\n",
    "In case of invalid job level, consider hike percentage to be 0.\n",
    "\n",
    "Given the current salary and job level, write a Python program to find and display the new salary of an employee."
   ]
  },
  {
   "cell_type": "code",
   "execution_count": 47,
   "id": "647f8273",
   "metadata": {},
   "outputs": [],
   "source": [
    "def NewSalary(job_level,current_salary):\n",
    "    if job_level == 3:\n",
    "        return current_salary +((current_salary) * (15/100))\n",
    "    elif job_level == 4:\n",
    "        return current_salary +((current_salary) * (7/100))\n",
    "    elif job_level==5:\n",
    "        return current_salary +((current_salary) * (5/100))\n",
    "    else:\n",
    "        return \"Invalid Job level\""
   ]
  },
  {
   "cell_type": "code",
   "execution_count": 48,
   "id": "b237ad17",
   "metadata": {},
   "outputs": [
    {
     "data": {
      "text/plain": [
       "11500.0"
      ]
     },
     "execution_count": 48,
     "metadata": {},
     "output_type": "execute_result"
    }
   ],
   "source": [
    "NewSalary(3,10000)"
   ]
  },
  {
   "cell_type": "code",
   "execution_count": 49,
   "id": "01d15b68",
   "metadata": {},
   "outputs": [
    {
     "data": {
      "text/plain": [
       "16050.0"
      ]
     },
     "execution_count": 49,
     "metadata": {},
     "output_type": "execute_result"
    }
   ],
   "source": [
    "NewSalary(4,15000)"
   ]
  },
  {
   "cell_type": "code",
   "execution_count": 50,
   "id": "670f31d5",
   "metadata": {},
   "outputs": [
    {
     "data": {
      "text/plain": [
       "21000.0"
      ]
     },
     "execution_count": 50,
     "metadata": {},
     "output_type": "execute_result"
    }
   ],
   "source": [
    "NewSalary(5,20000)"
   ]
  },
  {
   "cell_type": "code",
   "execution_count": 51,
   "id": "f9e53b0e",
   "metadata": {},
   "outputs": [
    {
     "data": {
      "text/plain": [
       "'Invalid Job level'"
      ]
     },
     "execution_count": 51,
     "metadata": {},
     "output_type": "execute_result"
    }
   ],
   "source": [
    "NewSalary(6,20000)"
   ]
  },
  {
   "cell_type": "code",
   "execution_count": null,
   "id": "4b595877",
   "metadata": {},
   "outputs": [],
   "source": []
  }
 ],
 "metadata": {
  "kernelspec": {
   "display_name": "Python 3 (ipykernel)",
   "language": "python",
   "name": "python3"
  },
  "language_info": {
   "codemirror_mode": {
    "name": "ipython",
    "version": 3
   },
   "file_extension": ".py",
   "mimetype": "text/x-python",
   "name": "python",
   "nbconvert_exporter": "python",
   "pygments_lexer": "ipython3",
   "version": "3.9.7"
  }
 },
 "nbformat": 4,
 "nbformat_minor": 5
}
