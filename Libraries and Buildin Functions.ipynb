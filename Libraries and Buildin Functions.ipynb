{
 "cells": [
  {
   "cell_type": "markdown",
   "id": "1b68e0cb",
   "metadata": {},
   "source": [
    "### Write a python function, encrypt_sentence(msg) which accepts a message and encrypts it based on rules given below and returns the encrypted message.\n",
    " \n",
    "\n",
    "Words at odd position -> Reverse It\n",
    "\n",
    "Words at even position -> Rearrange the characters so that all consonants appear before the vowels and their order should not change\n",
    "\n",
    "Note: Assume that the sentence would begin with a word and there will be only a single space between the words.\n",
    "\n",
    "          Perform case sensitive string operations wherever necessary.\n",
    "\n",
    "Example: msg=the sun rises in the east    output=eht snu sesir ni eht stea\n"
   ]
  },
  {
   "cell_type": "code",
   "execution_count": 7,
   "id": "a062505c",
   "metadata": {},
   "outputs": [],
   "source": [
    "class encryption:\n",
    "    def __init__(self,message):\n",
    "        self.msg = message\n",
    "        self.list_msg = message.split(\" \")\n",
    "        \n",
    "    def get_position(self,word):\n",
    "        position = self.list_msg.index(word)\n",
    "        if position % 2 == 0:\n",
    "            return 1\n",
    "        else:\n",
    "            return 2\n",
    "        \n",
    "    def encrypt(self):\n",
    "        output = \"\"\n",
    "        for i in self.list_msg:\n",
    "            if self.get_position(i) == 1:\n",
    "                output += i[::-1] + \" \"\n",
    "            else:\n",
    "                vowels = \"\"\n",
    "                consonents=\"\"\n",
    "                for j in i:\n",
    "                    if j in \"aeiouAEIOU\":\n",
    "                        vowels += j\n",
    "                    else:\n",
    "                        consonents += j\n",
    "                output += consonents + vowels +\" \"\n",
    "                \n",
    "        return output"
   ]
  },
  {
   "cell_type": "code",
   "execution_count": 8,
   "id": "4e64710c",
   "metadata": {},
   "outputs": [],
   "source": [
    "en = encryption(\"the sun rises in the east\")"
   ]
  },
  {
   "cell_type": "code",
   "execution_count": 9,
   "id": "53e4993c",
   "metadata": {},
   "outputs": [
    {
     "data": {
      "text/plain": [
       "'eht snu sesir ni eht stea '"
      ]
     },
     "execution_count": 9,
     "metadata": {},
     "output_type": "execute_result"
    }
   ],
   "source": [
    "en.encrypt()"
   ]
  },
  {
   "cell_type": "markdown",
   "id": "8cf55d62",
   "metadata": {},
   "source": [
    "### Write a Python program to find the number of characters present the given string."
   ]
  },
  {
   "cell_type": "code",
   "execution_count": 10,
   "id": "28f7d1c3",
   "metadata": {},
   "outputs": [],
   "source": [
    "n = \"The above code is written by Naveen\""
   ]
  },
  {
   "cell_type": "code",
   "execution_count": 11,
   "id": "d01ce97e",
   "metadata": {},
   "outputs": [
    {
     "data": {
      "text/plain": [
       "35"
      ]
     },
     "execution_count": 11,
     "metadata": {},
     "output_type": "execute_result"
    }
   ],
   "source": [
    "len(n)"
   ]
  },
  {
   "cell_type": "markdown",
   "id": "1d991d50",
   "metadata": {},
   "source": [
    "### Write a Python program to find the numbers of words present in the given sentence."
   ]
  },
  {
   "cell_type": "code",
   "execution_count": 12,
   "id": "4165f11f",
   "metadata": {},
   "outputs": [
    {
     "data": {
      "text/plain": [
       "7"
      ]
     },
     "execution_count": 12,
     "metadata": {},
     "output_type": "execute_result"
    }
   ],
   "source": [
    "n_words = n.split(\" \")\n",
    "len(n_words)"
   ]
  },
  {
   "cell_type": "markdown",
   "id": "6b020ae7",
   "metadata": {},
   "source": [
    "### Write a Python function words_count(sentence) to return a dictionary with the length of words as key and number words with such length as value.\n",
    "\n",
    "Example: sentence=“I love python and it so easy to learn” sample output={1:1,4:2,5:1,3:1,2:3,6:1}\n"
   ]
  },
  {
   "cell_type": "code",
   "execution_count": 17,
   "id": "3ae69b25",
   "metadata": {},
   "outputs": [],
   "source": [
    "def words_count(sentence):\n",
    "    list_words = sentence.split(\" \")\n",
    "    len_words = {}\n",
    "    output = {}\n",
    "    for i in list_words:\n",
    "        len_words[i] = len(i)\n",
    "        \n",
    "    for i in list_words:\n",
    "        count_of_words = list(len_words.values()).count(len(i))\n",
    "        if len(i) not in output:\n",
    "            output[len(i)] = count_of_words\n",
    "            \n",
    "    return output "
   ]
  },
  {
   "cell_type": "code",
   "execution_count": 18,
   "id": "ad40fcce",
   "metadata": {},
   "outputs": [],
   "source": [
    "sent = \"I love python and it so easy to learn\""
   ]
  },
  {
   "cell_type": "code",
   "execution_count": 19,
   "id": "98218df2",
   "metadata": {},
   "outputs": [
    {
     "data": {
      "text/plain": [
       "{1: 1, 4: 2, 6: 1, 3: 1, 2: 3, 5: 1}"
      ]
     },
     "execution_count": 19,
     "metadata": {},
     "output_type": "execute_result"
    }
   ],
   "source": [
    "words_count(sent)"
   ]
  },
  {
   "cell_type": "markdown",
   "id": "6f13cad1",
   "metadata": {},
   "source": [
    "### Write a Python function vowel_count(sentence) to return a dictionary with vowels, consonants, others as key and respective number of vowels, consonants, others characters as value.\n",
    "\n",
    "Note: Do case insensitive operations\n",
    "\n",
    "Example: sentence=“I love python and it so easy to learn”\n",
    "\n",
    "                 sample output={“vowels”:12,”consonants”:17, “others”:8}\n"
   ]
  },
  {
   "cell_type": "code",
   "execution_count": 25,
   "id": "86e87af2",
   "metadata": {},
   "outputs": [],
   "source": [
    "def vowel_count(sent):\n",
    "    vow = 0\n",
    "    con = 0\n",
    "    oth = 0\n",
    "    for i in sent:\n",
    "        if i in \"aeiouAEIOU\":\n",
    "            vow += 1\n",
    "        elif i in \"bcdfghjklmnpqrstvwxyzBCDFGHJKLMNPQRSTVWXYZ\":\n",
    "            con += 1\n",
    "        else:\n",
    "            oth += 1\n",
    "    \n",
    "    output = {}\n",
    "    output[\"Vowels\"] = vow\n",
    "    output[\"Consonants\"]= con\n",
    "    output[\"Others\"]=oth\n",
    "    \n",
    "    return output"
   ]
  },
  {
   "cell_type": "code",
   "execution_count": 26,
   "id": "129fd870",
   "metadata": {},
   "outputs": [],
   "source": [
    "ss = \"I love python and it so easy to learn\""
   ]
  },
  {
   "cell_type": "code",
   "execution_count": 27,
   "id": "c0f2fe4d",
   "metadata": {},
   "outputs": [
    {
     "data": {
      "text/plain": [
       "{'Vowels': 12, 'Consonants': 17, 'Others': 8}"
      ]
     },
     "execution_count": 27,
     "metadata": {},
     "output_type": "execute_result"
    }
   ],
   "source": [
    "vowel_count(ss)"
   ]
  },
  {
   "cell_type": "code",
   "execution_count": null,
   "id": "3bfb06e3",
   "metadata": {},
   "outputs": [],
   "source": []
  }
 ],
 "metadata": {
  "kernelspec": {
   "display_name": "Python 3 (ipykernel)",
   "language": "python",
   "name": "python3"
  },
  "language_info": {
   "codemirror_mode": {
    "name": "ipython",
    "version": 3
   },
   "file_extension": ".py",
   "mimetype": "text/x-python",
   "name": "python",
   "nbconvert_exporter": "python",
   "pygments_lexer": "ipython3",
   "version": "3.9.7"
  }
 },
 "nbformat": 4,
 "nbformat_minor": 5
}
