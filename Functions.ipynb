{
 "cells": [
  {
   "cell_type": "markdown",
   "id": "131312ed",
   "metadata": {},
   "source": [
    "### Write a Python function, find_square() that accepts an integer number n and returns the square of n. Invoke the function and display the square of the number. "
   ]
  },
  {
   "cell_type": "code",
   "execution_count": 1,
   "id": "838e872d",
   "metadata": {},
   "outputs": [],
   "source": [
    "def find_square(n):\n",
    "    square = n ** 2\n",
    "    return square"
   ]
  },
  {
   "cell_type": "code",
   "execution_count": 2,
   "id": "39753574",
   "metadata": {},
   "outputs": [
    {
     "data": {
      "text/plain": [
       "225"
      ]
     },
     "execution_count": 2,
     "metadata": {},
     "output_type": "execute_result"
    }
   ],
   "source": [
    "find_square(15)"
   ]
  },
  {
   "cell_type": "markdown",
   "id": "e4093b30",
   "metadata": {},
   "source": [
    "### Write a Python function, find_sum() that accepts an integer n and returns the sum of first n numbers. Invoke the function and display the sum of first n numbers."
   ]
  },
  {
   "cell_type": "code",
   "execution_count": 3,
   "id": "24c5be29",
   "metadata": {},
   "outputs": [],
   "source": [
    "def sum_n_numbers(n):\n",
    "    s = 0\n",
    "    for i in range(1,n+1):\n",
    "        s += i\n",
    "        \n",
    "    return s"
   ]
  },
  {
   "cell_type": "code",
   "execution_count": 4,
   "id": "e88931c2",
   "metadata": {},
   "outputs": [
    {
     "data": {
      "text/plain": [
       "5050"
      ]
     },
     "execution_count": 4,
     "metadata": {},
     "output_type": "execute_result"
    }
   ],
   "source": [
    "sum_n_numbers(100)"
   ]
  },
  {
   "cell_type": "markdown",
   "id": "e5b2a143",
   "metadata": {},
   "source": [
    "### Write a Python function factorial(num) which returns the factorial of a given number."
   ]
  },
  {
   "cell_type": "code",
   "execution_count": 5,
   "id": "5fe4abb0",
   "metadata": {},
   "outputs": [],
   "source": [
    "def Factorial(n):\n",
    "    fact = 1\n",
    "    for i in range(1,n+1):\n",
    "        fact *= i\n",
    "    return fact"
   ]
  },
  {
   "cell_type": "code",
   "execution_count": 6,
   "id": "90bf1271",
   "metadata": {},
   "outputs": [
    {
     "data": {
      "text/plain": [
       "120"
      ]
     },
     "execution_count": 6,
     "metadata": {},
     "output_type": "execute_result"
    }
   ],
   "source": [
    "Factorial(5)"
   ]
  },
  {
   "cell_type": "markdown",
   "id": "f77a3e43",
   "metadata": {},
   "source": [
    "### Write a Python Function is_palindrome(num) that accepts an integer num as argument and returns True if the num is palindrome else returns false. Invoke the function and based on return value print the output.\n",
    "\n",
    "Example: num=12321 output: Given number is a palindrome, num=12345 output: Given number is not a palindrome\n",
    "\n"
   ]
  },
  {
   "cell_type": "code",
   "execution_count": 7,
   "id": "388537dd",
   "metadata": {},
   "outputs": [],
   "source": [
    "def CheckPalindrome(n):\n",
    "    str_n = str(n)\n",
    "    if str_n == str_n[::-1]:\n",
    "        print(\"It is a palindrome number\")\n",
    "    else:\n",
    "        print(\"It is not a palindrom number\")"
   ]
  },
  {
   "cell_type": "code",
   "execution_count": 8,
   "id": "c5343f48",
   "metadata": {},
   "outputs": [
    {
     "name": "stdout",
     "output_type": "stream",
     "text": [
      "It is a palindrome number\n"
     ]
    }
   ],
   "source": [
    "CheckPalindrome(12321)"
   ]
  },
  {
   "cell_type": "code",
   "execution_count": 9,
   "id": "341af015",
   "metadata": {},
   "outputs": [
    {
     "name": "stdout",
     "output_type": "stream",
     "text": [
      "It is not a palindrom number\n"
     ]
    }
   ],
   "source": [
    "CheckPalindrome(321232)"
   ]
  },
  {
   "cell_type": "markdown",
   "id": "83d4436a",
   "metadata": {},
   "source": [
    "### Write a Python function check_amicable_numbers(num1, num2) that accepts two numbers num1 and num2 as arguments and returns True if the given pair of numbers are amicable numbers else return false. Invoke the function and based on return value print the numbers are amicable numbers or not.\n",
    "\n",
    "num1 and num2 are said to be amicable numbers if sum of all the proper devisors (except num1 itself) of num1 is equal to num2 and sum of all the proper devisors of num2 (except num1 itself) is equal to num1.\n",
    "\n",
    "Example: 220 and 284 are amicable numbers as\n",
    "\n",
    "Proper devisors of 220 are 1, 2, 4, 5, 10, 11, 20, 22, 44, 55, 110 whose sum is 284\n",
    "\n",
    "Proper devisors of 284 are 1, 2, 4, 71, 142 whose sum is 220"
   ]
  },
  {
   "cell_type": "code",
   "execution_count": 16,
   "id": "e64bfa25",
   "metadata": {},
   "outputs": [],
   "source": [
    "def Get_Factorials(n):\n",
    "    '''\n",
    "    Gets the given numbers devisors, excluding given number\n",
    "    '''\n",
    "    facts = []\n",
    "    for i in range(1,n):\n",
    "        if n%i == 0:\n",
    "            facts.append(i)\n",
    "    return facts"
   ]
  },
  {
   "cell_type": "code",
   "execution_count": 13,
   "id": "6df64a9d",
   "metadata": {},
   "outputs": [],
   "source": [
    "def CheckAmicable(num1,num2):\n",
    "    num1_facts = Get_Factorials(num1)\n",
    "    num2_facts = Get_Factorials(num2)\n",
    "    \n",
    "    if sum(num1_facts) == num2 and sum(num2_facts) == num1:\n",
    "        print(\"It is a Amicable number\")\n",
    "    else:\n",
    "        print(\"It is not a Amicable number\")"
   ]
  },
  {
   "cell_type": "code",
   "execution_count": 14,
   "id": "89539351",
   "metadata": {},
   "outputs": [
    {
     "name": "stdout",
     "output_type": "stream",
     "text": [
      "It is a Amicable number\n"
     ]
    }
   ],
   "source": [
    "CheckAmicable(220,284)"
   ]
  },
  {
   "cell_type": "code",
   "execution_count": 15,
   "id": "b37cf83d",
   "metadata": {},
   "outputs": [
    {
     "name": "stdout",
     "output_type": "stream",
     "text": [
      "It is not a Amicable number\n"
     ]
    }
   ],
   "source": [
    "CheckAmicable(202,220)"
   ]
  },
  {
   "cell_type": "markdown",
   "id": "fde71841",
   "metadata": {},
   "source": [
    "### Write a Python function right_shift(num, n) that takes two numbers num and n as  arguments and returns value of the integer num rotated to the right by n positions. Assume both the numbers are unsigned. Invoke the function and print the return value.\n",
    "\n",
    "Hint: use >> binary operator to shift the bits.\n",
    "\n",
    "Example: num=60, n=2 result=15"
   ]
  },
  {
   "cell_type": "code",
   "execution_count": 18,
   "id": "cb41c17a",
   "metadata": {},
   "outputs": [],
   "source": [
    "def right_shift(num,n):\n",
    "    return num>>n"
   ]
  },
  {
   "cell_type": "code",
   "execution_count": 19,
   "id": "2b7a222f",
   "metadata": {},
   "outputs": [
    {
     "data": {
      "text/plain": [
       "15"
      ]
     },
     "execution_count": 19,
     "metadata": {},
     "output_type": "execute_result"
    }
   ],
   "source": [
    "right_shift(60,2)"
   ]
  },
  {
   "cell_type": "code",
   "execution_count": 20,
   "id": "f5edbf28",
   "metadata": {},
   "outputs": [
    {
     "data": {
      "text/plain": [
       "6"
      ]
     },
     "execution_count": 20,
     "metadata": {},
     "output_type": "execute_result"
    }
   ],
   "source": [
    "right_shift(50,3)"
   ]
  },
  {
   "cell_type": "markdown",
   "id": "4ab57e7e",
   "metadata": {},
   "source": [
    "### Write a Python function check_strong_number(num) that accepts a positive integer as argument and returns True if the number is strong number else false. Invoke the function and based on return value print the number is strong number or not.\n",
    "\n",
    "A number is said to be strong number, if the sum of factorial of each digit of the number is equal to the given number.\n",
    "\n",
    "Example:145 is strong number as\n",
    "\n",
    "1!=1\n",
    "\n",
    "4!=24\n",
    "\n",
    "5!=120\n",
    "\n",
    "Sum of all these is 145"
   ]
  },
  {
   "cell_type": "code",
   "execution_count": 23,
   "id": "78a6a189",
   "metadata": {},
   "outputs": [],
   "source": [
    "def CheckStrongNumber(num):\n",
    "    str_num = str(num)\n",
    "    import math\n",
    "    s = 0\n",
    "    for i in str_num:\n",
    "        s += math.factorial(int(i))\n",
    "            \n",
    "    if s == num :\n",
    "        print(\"It is a strong number\")\n",
    "    else:\n",
    "        print(\"It is not a strong number\")"
   ]
  },
  {
   "cell_type": "code",
   "execution_count": 24,
   "id": "86b5c954",
   "metadata": {},
   "outputs": [
    {
     "name": "stdout",
     "output_type": "stream",
     "text": [
      "It is a strong number\n"
     ]
    }
   ],
   "source": [
    "CheckStrongNumber(145)"
   ]
  },
  {
   "cell_type": "code",
   "execution_count": 25,
   "id": "ce8444b0",
   "metadata": {},
   "outputs": [
    {
     "name": "stdout",
     "output_type": "stream",
     "text": [
      "It is not a strong number\n"
     ]
    }
   ],
   "source": [
    "CheckStrongNumber(156)"
   ]
  },
  {
   "cell_type": "code",
   "execution_count": null,
   "id": "24f76bcf",
   "metadata": {},
   "outputs": [],
   "source": []
  }
 ],
 "metadata": {
  "kernelspec": {
   "display_name": "Python 3 (ipykernel)",
   "language": "python",
   "name": "python3"
  },
  "language_info": {
   "codemirror_mode": {
    "name": "ipython",
    "version": 3
   },
   "file_extension": ".py",
   "mimetype": "text/x-python",
   "name": "python",
   "nbconvert_exporter": "python",
   "pygments_lexer": "ipython3",
   "version": "3.9.7"
  }
 },
 "nbformat": 4,
 "nbformat_minor": 5
}
