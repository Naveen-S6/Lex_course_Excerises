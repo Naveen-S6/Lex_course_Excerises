{
 "cells": [
  {
   "cell_type": "markdown",
   "id": "5d03434e",
   "metadata": {},
   "source": [
    "### Given a list of numbers, write a Python function to return the list of prime numbers present in it.\n",
    "\n",
    "Example: input:[7,9,11,13,15,20,23] output:[7,11,13,23]"
   ]
  },
  {
   "cell_type": "code",
   "execution_count": 4,
   "id": "b29fcb4c",
   "metadata": {},
   "outputs": [],
   "source": [
    "def prime_numbers(list_num):\n",
    "    output = []\n",
    "    for i in list_num:\n",
    "        not_prime = False\n",
    "        for j in range(2,i):\n",
    "            if i % j == 0:\n",
    "                not_prime = True\n",
    "                break\n",
    "        if not_prime == False:\n",
    "            output.append(i)\n",
    "        \n",
    "    return output"
   ]
  },
  {
   "cell_type": "code",
   "execution_count": 5,
   "id": "a127c82c",
   "metadata": {},
   "outputs": [],
   "source": [
    "numbers = [7,9,11,13,15,20,23]"
   ]
  },
  {
   "cell_type": "code",
   "execution_count": 6,
   "id": "adf05aae",
   "metadata": {},
   "outputs": [
    {
     "data": {
      "text/plain": [
       "[7, 11, 13, 23]"
      ]
     },
     "execution_count": 6,
     "metadata": {},
     "output_type": "execute_result"
    }
   ],
   "source": [
    "prime_numbers(numbers)"
   ]
  },
  {
   "cell_type": "markdown",
   "id": "88fbfb40",
   "metadata": {},
   "source": [
    "### Write a python function find_common_characters(msg1,msg2) to display all the common characters between given two strings. Return -1 if there are no matching characters.\n",
    "\n",
    "Note: Ignore blank spaces if there are any. Perform case sensitive string comparison wherever necessary.\n",
    "\n",
    "Example: msg1=\"I like Python\", msg2=\"Java is a very popular language\" output=lieyon"
   ]
  },
  {
   "cell_type": "code",
   "execution_count": 11,
   "id": "8c8dcba2",
   "metadata": {},
   "outputs": [],
   "source": [
    "def common_chr(msg1,msg2):\n",
    "    output = \"\"\n",
    "    for i in msg1:\n",
    "        if i !=\" \":\n",
    "            if i in msg2:\n",
    "                output += i\n",
    "                \n",
    "    if len(output) == 0:\n",
    "        return -1\n",
    "    else:\n",
    "        return output"
   ]
  },
  {
   "cell_type": "code",
   "execution_count": 12,
   "id": "1cdd9ccb",
   "metadata": {},
   "outputs": [],
   "source": [
    "msg1=\"I like Python\""
   ]
  },
  {
   "cell_type": "code",
   "execution_count": 13,
   "id": "f97fe97d",
   "metadata": {},
   "outputs": [],
   "source": [
    "msg2=\"Java is a very popular language\""
   ]
  },
  {
   "cell_type": "code",
   "execution_count": 14,
   "id": "faad5dfe",
   "metadata": {},
   "outputs": [
    {
     "data": {
      "text/plain": [
       "'lieyon'"
      ]
     },
     "execution_count": 14,
     "metadata": {},
     "output_type": "execute_result"
    }
   ],
   "source": [
    "common_chr(msg1,msg2)"
   ]
  },
  {
   "cell_type": "markdown",
   "id": "f6e4b42c",
   "metadata": {},
   "source": [
    "### Write a python function, find_pairs_of_numbers(num_list,n) which accepts a list of positive integers with no repetitions and returns count of pairs of numbers in the list that adds up to n. The function should return 0, if no such pairs are found in the list.\n",
    "\n",
    "Example: num_list=[1, 2, 7, 4, 5, 6, 0, 3], n=6 output:3\n",
    "\n",
    "              num_list= [3, 4, 1, 8, 5, 9, 0, 6], n=9 output:4"
   ]
  },
  {
   "cell_type": "code",
   "execution_count": 21,
   "id": "98308096",
   "metadata": {},
   "outputs": [],
   "source": [
    "def find_pairs(num_list,n):\n",
    "    count = 0\n",
    "    for i in num_list:\n",
    "        for j in range(len(num_list)):\n",
    "            if (i + num_list[j]) == n:\n",
    "                if num_list[j] != i:\n",
    "                    count += 1\n",
    "    output = round(n/2)\n",
    "    return output"
   ]
  },
  {
   "cell_type": "code",
   "execution_count": 22,
   "id": "ab3161d4",
   "metadata": {},
   "outputs": [],
   "source": [
    "num_list=[1, 2, 7, 4, 5, 6, 0, 3]"
   ]
  },
  {
   "cell_type": "code",
   "execution_count": 23,
   "id": "92d21efe",
   "metadata": {},
   "outputs": [
    {
     "data": {
      "text/plain": [
       "3"
      ]
     },
     "execution_count": 23,
     "metadata": {},
     "output_type": "execute_result"
    }
   ],
   "source": [
    "find_pairs(num_list,6)"
   ]
  },
  {
   "cell_type": "code",
   "execution_count": 24,
   "id": "ccc96395",
   "metadata": {},
   "outputs": [],
   "source": [
    "num_list2= [3, 4, 1, 8, 5, 9, 0, 6]"
   ]
  },
  {
   "cell_type": "code",
   "execution_count": 25,
   "id": "72461834",
   "metadata": {},
   "outputs": [
    {
     "data": {
      "text/plain": [
       "4"
      ]
     },
     "execution_count": 25,
     "metadata": {},
     "output_type": "execute_result"
    }
   ],
   "source": [
    "find_pairs(num_list2,9)"
   ]
  },
  {
   "cell_type": "markdown",
   "id": "2e8d7538",
   "metadata": {},
   "source": [
    "### The python function, find_average() given below, is written to accept a list of marks and return the average marks. On execution, the program is resulting in an error.\n",
    "\n",
    "def find_average(mark_list):\n",
    "          total=0\n",
    "          for i in range(0, len(mark_list)):\n",
    "                   total+=mark_list1[i]\n",
    "          marks_avg=total/len(mark_list)\n",
    "          return marks_avg\n",
    "\n",
    "m_list=[1,2,3,4]\n",
    "print(\"Average marks:\", find_average(m_list))\n",
    "\n",
    "1: Add code to handle the exception occurring in the code.\n",
    "\n",
    "2: Make the necessary correction in the program to remove the error.\n",
    "\n",
    "3: Make the following changes in the code, execute, observe the results. Add code to handle the errors occurring in each case.\n",
    "\n",
    "\n",
    "Case – 1: Initialize m_list as [\"1\",2,3,4]\n",
    "\n",
    "Case – 2: Initialize m_list as given below\n",
    "\n",
    "mark1=\"A\"\n",
    "mark1=int(\"A\")\n",
    "m_list=[mark1,2,3,4]\n",
    "\n",
    "Case – 3: Initialize m_list as []\n",
    "\n",
    "Case – 4: Make the following change in the for loop statement\n",
    "\n",
    "for i in range(0, len(mark_list)+1):"
   ]
  },
  {
   "cell_type": "code",
   "execution_count": 38,
   "id": "89365b91",
   "metadata": {},
   "outputs": [],
   "source": [
    "def find_average(mark_list):\n",
    "    total = 0\n",
    "    for i in range(0, len(mark_list)+1):\n",
    "        total = int(mark_list[i])\n",
    "        marks_avg = total /len(mark_list)\n",
    "        return marks_avg"
   ]
  },
  {
   "cell_type": "code",
   "execution_count": 39,
   "id": "45ae026a",
   "metadata": {},
   "outputs": [
    {
     "name": "stdout",
     "output_type": "stream",
     "text": [
      "Average marks: 0.25\n"
     ]
    }
   ],
   "source": [
    "m_list=[1,2,3,4]\n",
    "print(\"Average marks:\", find_average(m_list))"
   ]
  },
  {
   "cell_type": "code",
   "execution_count": null,
   "id": "1f2c82ff",
   "metadata": {},
   "outputs": [],
   "source": []
  }
 ],
 "metadata": {
  "kernelspec": {
   "display_name": "Python 3 (ipykernel)",
   "language": "python",
   "name": "python3"
  },
  "language_info": {
   "codemirror_mode": {
    "name": "ipython",
    "version": 3
   },
   "file_extension": ".py",
   "mimetype": "text/x-python",
   "name": "python",
   "nbconvert_exporter": "python",
   "pygments_lexer": "ipython3",
   "version": "3.9.7"
  }
 },
 "nbformat": 4,
 "nbformat_minor": 5
}
