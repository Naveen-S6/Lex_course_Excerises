{
 "cells": [
  {
   "cell_type": "markdown",
   "id": "cf828e8f",
   "metadata": {},
   "source": [
    "### Given a list of integer values, write a Python program to check whether the list contains the same number in adjacent positions. Display the count of such adjacent occurrences.\n",
    "\n",
    "Sample Input\n",
    "\n",
    "Sample Output\n",
    "\n",
    "[1,1,5,100,-20,-20,6,0,0]\n",
    "\n",
    "3\n",
    "\n",
    "[10,20,30,40,30,20]\n",
    "\n",
    "0\n",
    "\n",
    "[1,2,2,3,4,4,4,10]\n",
    "\n",
    "3"
   ]
  },
  {
   "cell_type": "code",
   "execution_count": 10,
   "id": "5b0226f4",
   "metadata": {},
   "outputs": [],
   "source": [
    "def CheckAdjacent(num_list):\n",
    "    count = 0\n",
    "    for i in range(0,len(num_list)-1):\n",
    "        if num_list[i] == num_list[i+1]:\n",
    "            count +=1       \n",
    "    return count"
   ]
  },
  {
   "cell_type": "code",
   "execution_count": 5,
   "id": "42783562",
   "metadata": {},
   "outputs": [],
   "source": [
    "n = [1,1,5,100,-20,-20,6,0,0]"
   ]
  },
  {
   "cell_type": "code",
   "execution_count": 6,
   "id": "84ac778d",
   "metadata": {},
   "outputs": [
    {
     "data": {
      "text/plain": [
       "3"
      ]
     },
     "execution_count": 6,
     "metadata": {},
     "output_type": "execute_result"
    }
   ],
   "source": [
    "CheckAdjacent(n)"
   ]
  },
  {
   "cell_type": "code",
   "execution_count": 8,
   "id": "51416464",
   "metadata": {},
   "outputs": [],
   "source": [
    "n2 = [10,20,30,40,30,20]"
   ]
  },
  {
   "cell_type": "code",
   "execution_count": 9,
   "id": "6e28b3de",
   "metadata": {},
   "outputs": [
    {
     "data": {
      "text/plain": [
       "0"
      ]
     },
     "execution_count": 9,
     "metadata": {},
     "output_type": "execute_result"
    }
   ],
   "source": [
    "CheckAdjacent(n2)"
   ]
  },
  {
   "cell_type": "code",
   "execution_count": 11,
   "id": "a7d9de7f",
   "metadata": {},
   "outputs": [],
   "source": [
    "n3= [1,2,2,3,4,4,4,10]"
   ]
  },
  {
   "cell_type": "code",
   "execution_count": 12,
   "id": "bf9717dc",
   "metadata": {},
   "outputs": [
    {
     "data": {
      "text/plain": [
       "3"
      ]
     },
     "execution_count": 12,
     "metadata": {},
     "output_type": "execute_result"
    }
   ],
   "source": [
    "CheckAdjacent(n3)"
   ]
  },
  {
   "cell_type": "markdown",
   "id": "7ceeff08",
   "metadata": {},
   "source": [
    "### Write a Python program to generate the ticket numbers for specified number of passengers traveling in a flight as per the details mentioned below:\n",
    "The ticket number should be generated as airline:src:dest:number where\n",
    "\n",
    "Consider AL1 as the value for airline\n",
    "\n",
    "src and dest should be the first three characters of the source and destination cities.\n",
    "\n",
    "number should be auto-generated starting from 101\n",
    "\n",
    "The program should return the list of ticket numbers of last five passengers.\n",
    "Note: If passenger count is less than 5, then return the list of all generated ticket numbers."
   ]
  },
  {
   "cell_type": "code",
   "execution_count": 32,
   "id": "bd49f524",
   "metadata": {},
   "outputs": [],
   "source": [
    "def TicketNumberGenerater(source,destination,num_of_ticket):\n",
    "    airline = 'AL1'\n",
    "    number = 101\n",
    "    ticket_list = []\n",
    "    \n",
    "    while num_of_ticket:\n",
    "        ticket_num = airline.upper() + \":\"+source[:3].upper()+\":\"+destination[:3].upper()+\":\"+str(number)\n",
    "        ticket_list.append(ticket_num)\n",
    "        num_of_ticket -= 1\n",
    "        number += 1\n",
    "        \n",
    "    if len(ticket_list) >= 5:\n",
    "        return ticket_list[-5:]\n",
    "    else:\n",
    "        return ticket_list\n",
    "    "
   ]
  },
  {
   "cell_type": "code",
   "execution_count": 33,
   "id": "b4c2b487",
   "metadata": {},
   "outputs": [
    {
     "data": {
      "text/plain": [
       "['AL1:VEL:CHE:146',\n",
       " 'AL1:VEL:CHE:147',\n",
       " 'AL1:VEL:CHE:148',\n",
       " 'AL1:VEL:CHE:149',\n",
       " 'AL1:VEL:CHE:150']"
      ]
     },
     "execution_count": 33,
     "metadata": {},
     "output_type": "execute_result"
    }
   ],
   "source": [
    "TicketNumberGenerater('Vellore','Chennai',50)"
   ]
  },
  {
   "cell_type": "markdown",
   "id": "9d90c1c3",
   "metadata": {},
   "source": [
    "### Write a Python function proper_divisors(num) which returns a list of all the proper divisors of given number.\n",
    "\n",
    "Example: Proper divisors of 220 are 1, 2, 4, 5, 10, 11, 20, 22, 44, 55, 110\n",
    "\n"
   ]
  },
  {
   "cell_type": "code",
   "execution_count": 34,
   "id": "1ae3a1de",
   "metadata": {},
   "outputs": [],
   "source": [
    "def GetDivisors(num):\n",
    "    facts = []\n",
    "    for i in range(1,num):\n",
    "        if num % i == 0:\n",
    "            facts.append(i)\n",
    "    return facts"
   ]
  },
  {
   "cell_type": "code",
   "execution_count": 35,
   "id": "365e1e3e",
   "metadata": {},
   "outputs": [
    {
     "data": {
      "text/plain": [
       "[1, 2, 4, 5, 10, 11, 20, 22, 44, 55, 110]"
      ]
     },
     "execution_count": 35,
     "metadata": {},
     "output_type": "execute_result"
    }
   ],
   "source": [
    "GetDivisors(220)"
   ]
  },
  {
   "cell_type": "markdown",
   "id": "089097e7",
   "metadata": {},
   "source": [
    "### Write a Python function generate_fibanacci(n) to return a list of first n Fibonacci numbers."
   ]
  },
  {
   "cell_type": "code",
   "execution_count": 36,
   "id": "029623c5",
   "metadata": {},
   "outputs": [],
   "source": [
    "def GenerateFibnacci(n):\n",
    "    a = 0\n",
    "    b = 1\n",
    "    series = [a,b]\n",
    "    for i in range(n-1):\n",
    "        c = a+b\n",
    "        series.append(c)\n",
    "        a,b = b,c\n",
    "        \n",
    "    return series"
   ]
  },
  {
   "cell_type": "code",
   "execution_count": 37,
   "id": "f89611bd",
   "metadata": {},
   "outputs": [
    {
     "data": {
      "text/plain": [
       "[0,\n",
       " 1,\n",
       " 1,\n",
       " 2,\n",
       " 3,\n",
       " 5,\n",
       " 8,\n",
       " 13,\n",
       " 21,\n",
       " 34,\n",
       " 55,\n",
       " 89,\n",
       " 144,\n",
       " 233,\n",
       " 377,\n",
       " 610,\n",
       " 987,\n",
       " 1597,\n",
       " 2584,\n",
       " 4181,\n",
       " 6765]"
      ]
     },
     "execution_count": 37,
     "metadata": {},
     "output_type": "execute_result"
    }
   ],
   "source": [
    "GenerateFibnacci(20)"
   ]
  },
  {
   "cell_type": "markdown",
   "id": "d69e38b1",
   "metadata": {},
   "source": [
    "### Write a Python program to generate the next 15 leap years starting from a given year. Populate the leap years into a list and display the list.\n",
    "\n"
   ]
  },
  {
   "cell_type": "code",
   "execution_count": 43,
   "id": "3699dd72",
   "metadata": {},
   "outputs": [],
   "source": [
    "def GetNext15LeapYears(start_year):\n",
    "    leap_year = []\n",
    "    while len(leap_year)<15:\n",
    "        str_year = str(start_year)\n",
    "        if start_year % 4 == 0 :\n",
    "            if str_year[-3:]=='000' or str_year[-2:]=='00':\n",
    "                if start_year % 400==0:\n",
    "                    leap_year.append(start_year)\n",
    "                else:\n",
    "                    pass\n",
    "            else:\n",
    "                leap_year.append(start_year)\n",
    "        else:\n",
    "            pass\n",
    "        \n",
    "        start_year +=1\n",
    "        \n",
    "    return leap_year"
   ]
  },
  {
   "cell_type": "code",
   "execution_count": 44,
   "id": "af6edce6",
   "metadata": {},
   "outputs": [
    {
     "data": {
      "text/plain": [
       "[2024,\n",
       " 2028,\n",
       " 2032,\n",
       " 2036,\n",
       " 2040,\n",
       " 2044,\n",
       " 2048,\n",
       " 2052,\n",
       " 2056,\n",
       " 2060,\n",
       " 2064,\n",
       " 2068,\n",
       " 2072,\n",
       " 2076,\n",
       " 2080]"
      ]
     },
     "execution_count": 44,
     "metadata": {},
     "output_type": "execute_result"
    }
   ],
   "source": [
    "GetNext15LeapYears(2022)"
   ]
  },
  {
   "cell_type": "markdown",
   "id": "e6ceb7cf",
   "metadata": {},
   "source": [
    "### Given a string containing uppercase characters (A-Z), compress the string using Run Length encoding. Repetition of character has to be replaced by storing the length of that run.\n",
    "\n",
    "Write a python function encode(message)  which performs the run length encoding for a given String and returns the run length encoded String.\n",
    "\n",
    "Provide different String values and test your program.\n",
    "\n",
    "Example: message=AAAABBBBCCCCCCCC  output: 4A4B8C"
   ]
  },
  {
   "cell_type": "code",
   "execution_count": 61,
   "id": "1bcb4ea5",
   "metadata": {},
   "outputs": [],
   "source": [
    "def encode(msg):\n",
    "    output = ''\n",
    "    i = 1\n",
    "    count =1\n",
    "    previous_chr = msg[0]\n",
    "    while (i!=len(msg)):\n",
    "        current_chr = msg[i]\n",
    "        if previous_chr == current_chr:\n",
    "            count +=1\n",
    "        else:\n",
    "            output += str(count)+ previous_chr\n",
    "            count = 1\n",
    "            \n",
    "        i +=1\n",
    "        previous_chr = current_chr\n",
    "        \n",
    "    return output+str(count)+previous_chr"
   ]
  },
  {
   "cell_type": "code",
   "execution_count": 64,
   "id": "93ddde84",
   "metadata": {},
   "outputs": [
    {
     "data": {
      "text/plain": [
       "'3A3B7C11D'"
      ]
     },
     "execution_count": 64,
     "metadata": {},
     "output_type": "execute_result"
    }
   ],
   "source": [
    "encode('AAABBBCCCCCCCDDDDDDDDDDD')"
   ]
  },
  {
   "cell_type": "markdown",
   "id": "cade66b7",
   "metadata": {},
   "source": [
    "### Represent a small bilingual (English-Swedish) glossary given below as a Python dictionary\n",
    "\n",
    "{\"merry\":\"god\", \"christmas\":\"jul\", \"and\":\"och\", \"happy\":\"gott\", \"new\":\"nytt\", \"year\":\"ar\"} \n",
    "\n",
    "and use it to translate your Christmas wishes from English into Swedish.\n",
    "\n",
    "That is, write a Python function translate(b_dict,list_words) that accepts the bilingual dictionary and a list of English words (your Christmas wish) and returns a list of equivalent Swedish words. \n",
    "\n"
   ]
  },
  {
   "cell_type": "code",
   "execution_count": 83,
   "id": "e1fc3c81",
   "metadata": {},
   "outputs": [],
   "source": [
    "def translate(dic,words):\n",
    "    translation = ''\n",
    "    for i in words:\n",
    "        if i in dic:\n",
    "            values = dic[i]\n",
    "            translation += values+\" \"\n",
    "    return translation"
   ]
  },
  {
   "cell_type": "code",
   "execution_count": 84,
   "id": "d5f67d9b",
   "metadata": {},
   "outputs": [],
   "source": [
    "dic = {\"merry\":\"god\", \"christmas\":\"jul\", \"and\":\"och\", \"happy\":\"gott\", \"new\":\"nytt\", \"year\":\"ar\"}"
   ]
  },
  {
   "cell_type": "code",
   "execution_count": 87,
   "id": "80d1d09a",
   "metadata": {},
   "outputs": [],
   "source": [
    "words= [\"merry\",\"christmas\",\"and\",\"happy\",\"new\",\"year\"]"
   ]
  },
  {
   "cell_type": "code",
   "execution_count": 88,
   "id": "24547cc4",
   "metadata": {},
   "outputs": [
    {
     "data": {
      "text/plain": [
       "'god jul och gott nytt ar '"
      ]
     },
     "execution_count": 88,
     "metadata": {},
     "output_type": "execute_result"
    }
   ],
   "source": [
    "translate(dic,words)"
   ]
  },
  {
   "cell_type": "code",
   "execution_count": null,
   "id": "8ba8b30b",
   "metadata": {},
   "outputs": [],
   "source": []
  },
  {
   "cell_type": "code",
   "execution_count": null,
   "id": "fbea5b1a",
   "metadata": {},
   "outputs": [],
   "source": []
  }
 ],
 "metadata": {
  "kernelspec": {
   "display_name": "Python 3 (ipykernel)",
   "language": "python",
   "name": "python3"
  },
  "language_info": {
   "codemirror_mode": {
    "name": "ipython",
    "version": 3
   },
   "file_extension": ".py",
   "mimetype": "text/x-python",
   "name": "python",
   "nbconvert_exporter": "python",
   "pygments_lexer": "ipython3",
   "version": "3.9.7"
  }
 },
 "nbformat": 4,
 "nbformat_minor": 5
}
